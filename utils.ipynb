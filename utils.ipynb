{
 "cells": [
  {
   "cell_type": "code",
   "execution_count": null,
   "metadata": {},
   "outputs": [],
   "source": [
    "def probas(logits):\n",
    "    cpu_logits = logits.detach().cpu()\n",
    "    return cpu_logits.numpy() > 0.5\n",
    "\n",
    "from pathlib import Path\n",
    "\n",
    "def save_checkpoint(args, epoch, best_score, model, optimizer, scheduler=None, best=False):\n",
    "    PATH = Path('./checkpoints') / args.model_name_or_path\n",
    "    PATH.mkdir(exist_ok=True)\n",
    "    checkpoint_path = PATH / ('best' if best else 'latest')\n",
    "    \n",
    "    state_dict = {\n",
    "        'epoch': epoch,\n",
    "        'best_score': best_score,\n",
    "        'model_state_dict': model.state_dict(),\n",
    "        'optimizer_state_dict': optimizer.state_dict(),\n",
    "    }\n",
    "    \n",
    "    if scheduler is not None:\n",
    "        state_dict['scheduler_state_dict'] = scheduler.state_dict()\n",
    "    \n",
    "    torch.save(state_dict, checkpoint_path)\n",
    "    \n",
    "\n",
    "def load_checkpoint(args, best=False):\n",
    "  PATH = Path('./checkpoints') / args.model_name_or_path\n",
    "  if best:\n",
    "    return torch.load(PATH / 'best')\n",
    "  else:\n",
    "    return torch.load(PATH / 'latest')\n"
   ]
  }
 ],
 "metadata": {
  "kernelspec": {
   "display_name": "Python 3",
   "language": "python",
   "name": "python3"
  },
  "language_info": {
   "codemirror_mode": {
    "name": "ipython",
    "version": 3
   },
   "file_extension": ".py",
   "mimetype": "text/x-python",
   "name": "python",
   "nbconvert_exporter": "python",
   "pygments_lexer": "ipython3",
   "version": "3.7.6"
  }
 },
 "nbformat": 4,
 "nbformat_minor": 4
}
